{
 "cells": [
  {
   "cell_type": "code",
   "execution_count": 5,
   "id": "5b0efe1b",
   "metadata": {},
   "outputs": [],
   "source": [
    "import numpy as np"
   ]
  },
  {
   "cell_type": "code",
   "execution_count": 29,
   "id": "0f05e16e-6ec1-4121-bad9-bd5a7696e353",
   "metadata": {},
   "outputs": [
    {
     "data": {
      "text/plain": [
       "(array([10.        ,  9.57894737,  9.15789474,  8.73684211,  8.31578947,\n",
       "         7.89473684,  7.47368421,  7.05263158,  6.63157895,  6.21052632,\n",
       "         5.78947368,  5.36842105,  4.94736842,  4.52631579,  4.10526316,\n",
       "         3.68421053,  3.26315789,  2.84210526,  2.42105263,  2.        ]),\n",
       " np.float64(-0.42105263157894735))"
      ]
     },
     "execution_count": 29,
     "metadata": {},
     "output_type": "execute_result"
    }
   ],
   "source": [
    "list = [[2,24,3493,39,39],[3,45,343,33,3]]\n",
    "my_array = np.linspace(10,2,20,retstep=True)\n",
    "my_array"
   ]
  },
  {
   "cell_type": "code",
   "execution_count": 47,
   "id": "c4f63b01-36e0-44c1-a5f0-48783cbeef23",
   "metadata": {},
   "outputs": [
    {
     "data": {
      "text/plain": [
       "array([[[ 0,  1,  2,  3],\n",
       "        [ 4,  5,  6,  7]],\n",
       "\n",
       "       [[ 8,  9, 10, 11],\n",
       "        [12, 13, 14, 15]]])"
      ]
     },
     "execution_count": 47,
     "metadata": {},
     "output_type": "execute_result"
    }
   ],
   "source": [
    "x = np.arange(0,16)\n",
    "x.reshape(2,2,4)\n"
   ]
  },
  {
   "cell_type": "code",
   "execution_count": 52,
   "id": "65e66e68-63fa-4592-b79d-c0c64c93ebf9",
   "metadata": {},
   "outputs": [
    {
     "data": {
      "text/plain": [
       "array([[0.59809589, 0.22899489],\n",
       "       [0.23248321, 0.40702133],\n",
       "       [0.85997453, 0.12179761],\n",
       "       [0.54112057, 0.84027719],\n",
       "       [0.7295787 , 0.62360719],\n",
       "       [0.30732636, 0.20974867],\n",
       "       [0.81984256, 0.3665058 ],\n",
       "       [0.63355676, 0.95783744],\n",
       "       [0.58075805, 0.80175688],\n",
       "       [0.88557012, 0.60122822]])"
      ]
     },
     "execution_count": 52,
     "metadata": {},
     "output_type": "execute_result"
    }
   ],
   "source": [
    "np.random.rand(10,2,)"
   ]
  },
  {
   "cell_type": "code",
   "execution_count": 77,
   "id": "3ff082d9-c44d-4fe0-8d61-98ca6b9cffa6",
   "metadata": {},
   "outputs": [
    {
     "data": {
      "text/plain": [
       "array([[272, 365, 237,  21, 262],\n",
       "       [248, 309, 206, 155,  29],\n",
       "       [300, 204,  16, 354, 207],\n",
       "       [171, 261, 237,  18, 311]], dtype=int32)"
      ]
     },
     "execution_count": 77,
     "metadata": {},
     "output_type": "execute_result"
    }
   ],
   "source": [
    "np.random.randint(2,34,20).reshape(4,5)\n",
    "arrayint = np.random.randint(low=10,high=400,size=[4,5])\n",
    "arrayint"
   ]
  },
  {
   "cell_type": "code",
   "execution_count": 71,
   "id": "a53f548a-76b8-4770-a8f7-6cd88083b6f3",
   "metadata": {},
   "outputs": [
    {
     "data": {
      "text/plain": [
       "np.int32(394)"
      ]
     },
     "execution_count": 71,
     "metadata": {},
     "output_type": "execute_result"
    }
   ],
   "source": [
    "arrayint.max()"
   ]
  },
  {
   "cell_type": "code",
   "execution_count": 73,
   "id": "ecd9d714-b2e5-44e7-8221-82a5b6579b9f",
   "metadata": {},
   "outputs": [
    {
     "data": {
      "text/plain": [
       "np.float64(242.0)"
      ]
     },
     "execution_count": 73,
     "metadata": {},
     "output_type": "execute_result"
    }
   ],
   "source": [
    "arrayint.mean()\n",
    "np.median(arrayint)"
   ]
  },
  {
   "cell_type": "code",
   "execution_count": 81,
   "id": "4bc6f9c7-9388-4f7a-8f1f-c9db763a7cdc",
   "metadata": {},
   "outputs": [
    {
     "data": {
      "text/plain": [
       "array([[272, 365, 237,  21, 262],\n",
       "       [248, 309, 206, 155,  29],\n",
       "       [300, 204,  16, 354, 207],\n",
       "       [171, 261, 237,  18, 311]], dtype=int32)"
      ]
     },
     "execution_count": 81,
     "metadata": {},
     "output_type": "execute_result"
    }
   ],
   "source": [
    "arrayint"
   ]
  },
  {
   "cell_type": "code",
   "execution_count": 87,
   "id": "9c780096-4ad5-457a-9df5-85e2e9e980f8",
   "metadata": {},
   "outputs": [
    {
     "data": {
      "text/plain": [
       "array([300, 204], dtype=int32)"
      ]
     },
     "execution_count": 87,
     "metadata": {},
     "output_type": "execute_result"
    }
   ],
   "source": [
    "arrayint[2][0:2]"
   ]
  }
 ],
 "metadata": {
  "kernelspec": {
   "display_name": "Python 3 (ipykernel)",
   "language": "python",
   "name": "python3"
  },
  "language_info": {
   "codemirror_mode": {
    "name": "ipython",
    "version": 3
   },
   "file_extension": ".py",
   "mimetype": "text/x-python",
   "name": "python",
   "nbconvert_exporter": "python",
   "pygments_lexer": "ipython3",
   "version": "3.10.6"
  }
 },
 "nbformat": 4,
 "nbformat_minor": 5
}
